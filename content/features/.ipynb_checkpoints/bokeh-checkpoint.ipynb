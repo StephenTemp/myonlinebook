{
 "cells": [
  {
   "cell_type": "code",
   "execution_count": null,
   "metadata": {},
   "outputs": [],
   "source": [
    "import sys\n",
    "!{sys.executable} -m pip install netCDF4\n",
    "!{sys.executable} -m pip install xarray\n",
    "import opedia\n",
    "import math\n",
    "import common as com\n",
    "from opedia import plotRegional as REG\n",
    "import netCDF4\n",
    "import xarray as xr\n",
    "import numpy as np\n",
    "from datetime import datetime\n",
    "from dateutil.parser import parse\n",
    "from bokeh.plotting import figure, show, output_file\n",
    "from bokeh.layouts import column\n",
    "from bokeh.palettes import all_palettes\n",
    "from bokeh.models import HoverTool, LinearColorMapper, BasicTicker, ColorBar, DatetimeTickFormatter\n",
    "from bokeh.models.annotations import Title\n",
    "from bokeh.embed import components\n",
    "from tqdm import tqdm_notebook as tqdm\n",
    "from netCDF4 import num2date, date2num\n"
   ]
  },
  {
   "cell_type": "markdown",
   "metadata": {},
   "source": [
    "## RegionalMap Method  "
   ]
  },
  {
   "cell_type": "markdown",
   "metadata": {},
   "source": [
    "#### NetCDF4 file(s) to read from:"
   ]
  },
  {
   "cell_type": "code",
   "execution_count": null,
   "metadata": {},
   "outputs": [],
   "source": [
    "xFile = xr.open_dataset('http://3.88.71.225:80/thredds/dodsC/las/id-a1d60eba44/data_usr_local_tomcat_content_cbiomes_20190510_20_darwin_v0.2_cs510_darwin_v0.2_cs510_nutrients.nc.jnl')\n"
   ]
  },
  {
   "cell_type": "markdown",
   "metadata": {},
   "source": [
    "#### Parameters (CDF4 tables, variables (with respect to table), time/longitude/latitude/depth constraints):"
   ]
  },
  {
   "cell_type": "code",
   "execution_count": null,
   "metadata": {
    "scrolled": false
   },
   "outputs": [],
   "source": [
    "\n",
    "tables = [xFile]\n",
    "variables = ['O2']\n",
    "startDate = '2016-04-30'\n",
    "endDate = '2017-04-30'\n",
    "lat1, lat2 = -50, 90\n",
    "lon1, lon2 = -100, 170\n",
    "depth1, depth2 = 0, 50\n",
    "fname = 'regional'\n",
    "exportDataFlag = False"
   ]
  },
  {
   "cell_type": "markdown",
   "metadata": {},
   "source": [
    "#### Regional Map Function (w/ respective parameters) :"
   ]
  },
  {
   "cell_type": "code",
   "execution_count": null,
   "metadata": {},
   "outputs": [],
   "source": [
    "def regionalMap(tables, variabels, dt1, dt2, lat1, lat2, lon1, lon2, depth1, depth2, fname, exportDataFlag):\n",
    "    for i in tqdm(range(len(tables)), desc='overall'):\n",
    "        \n",
    "        unit = tables[i].variables[variables[i]].attrs['units']\n",
    "        \n",
    "        toDateTime = tables[i].indexes['TIME'].to_datetimeindex()\n",
    "        tables[i]['TIME'] = toDateTime\n",
    "        table = tables[i].sel(TIME = slice(startDate, endDate), LAT_C = slice(lat1, lat2), LON_C = slice(lon1, lon2), DEP_C = slice(depth1, depth2))\n",
    "        \n",
    "        varData = table.variables[variables[i]][0,0,:,:].values       \n",
    "        \n",
    "        lats = table.variables['LAT_C'].values.tolist()\n",
    "        lons = table.variables['LON_C'].values.tolist()\n",
    "        \n",
    "        shape = (len(lats), len(lons))\n",
    "        \n",
    "        varData.reshape(shape)\n",
    "\n",
    "        varData[varData < 0] = float('NaN')\n",
    "        varData = [np.asarray(varData)]\n",
    "        lats = [np.asarray(lats)]\n",
    "        lons = [np.asarray(lons)]\n",
    "        \n",
    "        bokehMap(varData, unit, 'regional', lats, lons, unit, 'OTHER', variables[i])"
   ]
  },
  {
   "cell_type": "markdown",
   "metadata": {},
   "source": [
    "#### Bokeh Map Function (w/ respective parameters) :"
   ]
  },
  {
   "cell_type": "code",
   "execution_count": null,
   "metadata": {},
   "outputs": [],
   "source": [
    "def bokehMap(data, subject, fname, lat, lon, units, tables, variabels):\n",
    "    TOOLS=\"crosshair,pan,zoom_in,wheel_zoom,zoom_out,box_zoom,reset,save,\"\n",
    "    p = []\n",
    "    for ind in range(len(data)):\n",
    "\n",
    "        w, h = com.canvasRect(dw=np.max(lon[ind])-np.min(lon[ind]), dh=np.max(lat[ind])-np.min(lat[ind]))\n",
    "        p1 = figure(tools=TOOLS, toolbar_location=\"right\", title=subject[ind], plot_width=w, plot_height=h, x_range=(np.min(lon[ind]), np.max(lon[ind])), y_range=(np.min(lat[ind]), np.max(lat[ind])))\n",
    "        p1.xaxis.axis_label = 'Longitude'\n",
    "        p1.yaxis.axis_label = 'Latitude'\n",
    "    \n",
    "        unit = units\n",
    "        \n",
    "        bounds = com.getBounds(variabels[ind])\n",
    "        \n",
    "        paletteName = com.getPalette(variabels[ind])\n",
    "        low, high = bounds[0], bounds[1]\n",
    "        \n",
    "        if low == None:\n",
    "            low, high = np.nanmin(data[ind].flatten()), np.nanmax(data[ind].flatten())\n",
    "        color_mapper = LinearColorMapper(palette=paletteName, low=low, high=high)\n",
    "        p1.image(image=[data[ind]], color_mapper=color_mapper, x=np.min(lon[ind]), y=np.min(lat[ind]), dw=np.max(lon[ind])-np.min(lon[ind]), dh=np.max(lat[ind])-np.min(lat[ind]))\n",
    "        p1.add_tools(HoverTool(\n",
    "            tooltips=[\n",
    "                ('longitude', '$x'),\n",
    "                ('latitude', '$y'),\n",
    "                (variabels[ind]+unit, '@image'),\n",
    "            ],\n",
    "            mode='mouse'\n",
    "        ))\n",
    "        color_bar = ColorBar(color_mapper=color_mapper, ticker=BasicTicker(),\n",
    "                        label_standoff=12, border_line_color=None, location=(0,0))\n",
    "        p1.add_layout(color_bar, 'right')\n",
    "        p.append(p1)\n",
    "    if len(p) > 0:\n",
    "       # if not inline:      ## if jupyter is not the caller\n",
    "       #     dirPath = 'embed/'\n",
    "       #     if not os.path.exists(dirPath):\n",
    "       #         os.makedirs(dirPath)        \n",
    "       #     output_file(dirPath + fname + \".html\", title=\"Regional Map\")\n",
    "        show(column(p))\n",
    "    return\n"
   ]
  },
  {
   "cell_type": "markdown",
   "metadata": {},
   "source": [
    "#### Call to function (w/ respective parameters) : "
   ]
  },
  {
   "cell_type": "code",
   "execution_count": 17,
   "metadata": {},
   "outputs": [
    {
     "data": {
      "application/vnd.jupyter.widget-view+json": {
       "model_id": "008f900de3b54a82ae6722853dc16c6e",
       "version_major": 2,
       "version_minor": 0
      },
      "text/plain": [
       "HBox(children=(IntProgress(value=0, description='overall', max=1, style=ProgressStyle(description_width='initi…"
      ]
     },
     "metadata": {},
     "output_type": "display_data"
    },
    {
     "name": "stdout",
     "output_type": "stream",
     "text": [
      "\n"
     ]
    },
    {
     "ename": "AttributeError",
     "evalue": "'DatetimeIndex' object has no attribute 'to_datetimeindex'",
     "output_type": "error",
     "traceback": [
      "\u001b[0;31m---------------------------------------------------------------------------\u001b[0m",
      "\u001b[0;31mAttributeError\u001b[0m                            Traceback (most recent call last)",
      "\u001b[0;32m<ipython-input-17-3382d0f2ff68>\u001b[0m in \u001b[0;36m<module>\u001b[0;34m()\u001b[0m\n\u001b[0;32m----> 1\u001b[0;31m \u001b[0mregionalMap\u001b[0m\u001b[0;34m(\u001b[0m\u001b[0mtables\u001b[0m\u001b[0;34m,\u001b[0m \u001b[0mvariables\u001b[0m\u001b[0;34m,\u001b[0m \u001b[0mstartDate\u001b[0m\u001b[0;34m,\u001b[0m \u001b[0mendDate\u001b[0m\u001b[0;34m,\u001b[0m \u001b[0mlat1\u001b[0m\u001b[0;34m,\u001b[0m \u001b[0mlat2\u001b[0m\u001b[0;34m,\u001b[0m \u001b[0mlon1\u001b[0m\u001b[0;34m,\u001b[0m \u001b[0mlon2\u001b[0m\u001b[0;34m,\u001b[0m \u001b[0mdepth1\u001b[0m\u001b[0;34m,\u001b[0m \u001b[0mdepth2\u001b[0m\u001b[0;34m,\u001b[0m \u001b[0mfname\u001b[0m\u001b[0;34m,\u001b[0m \u001b[0mexportDataFlag\u001b[0m\u001b[0;34m)\u001b[0m\u001b[0;34m\u001b[0m\u001b[0;34m\u001b[0m\u001b[0m\n\u001b[0m\u001b[1;32m      2\u001b[0m \u001b[0;34m\u001b[0m\u001b[0m\n",
      "\u001b[0;32m<ipython-input-13-9146b2827f12>\u001b[0m in \u001b[0;36mregionalMap\u001b[0;34m(tables, variabels, dt1, dt2, lat1, lat2, lon1, lon2, depth1, depth2, fname, exportDataFlag)\u001b[0m\n\u001b[1;32m      4\u001b[0m         \u001b[0munit\u001b[0m \u001b[0;34m=\u001b[0m \u001b[0mtables\u001b[0m\u001b[0;34m[\u001b[0m\u001b[0mi\u001b[0m\u001b[0;34m]\u001b[0m\u001b[0;34m.\u001b[0m\u001b[0mvariables\u001b[0m\u001b[0;34m[\u001b[0m\u001b[0mvariables\u001b[0m\u001b[0;34m[\u001b[0m\u001b[0mi\u001b[0m\u001b[0;34m]\u001b[0m\u001b[0;34m]\u001b[0m\u001b[0;34m.\u001b[0m\u001b[0mattrs\u001b[0m\u001b[0;34m[\u001b[0m\u001b[0;34m'units'\u001b[0m\u001b[0;34m]\u001b[0m\u001b[0;34m\u001b[0m\u001b[0;34m\u001b[0m\u001b[0m\n\u001b[1;32m      5\u001b[0m \u001b[0;34m\u001b[0m\u001b[0m\n\u001b[0;32m----> 6\u001b[0;31m         \u001b[0mtoDateTime\u001b[0m \u001b[0;34m=\u001b[0m \u001b[0mtables\u001b[0m\u001b[0;34m[\u001b[0m\u001b[0mi\u001b[0m\u001b[0;34m]\u001b[0m\u001b[0;34m.\u001b[0m\u001b[0mindexes\u001b[0m\u001b[0;34m[\u001b[0m\u001b[0;34m'TIME'\u001b[0m\u001b[0;34m]\u001b[0m\u001b[0;34m.\u001b[0m\u001b[0mto_datetimeindex\u001b[0m\u001b[0;34m(\u001b[0m\u001b[0;34m)\u001b[0m\u001b[0;34m\u001b[0m\u001b[0;34m\u001b[0m\u001b[0m\n\u001b[0m\u001b[1;32m      7\u001b[0m         \u001b[0mtables\u001b[0m\u001b[0;34m[\u001b[0m\u001b[0mi\u001b[0m\u001b[0;34m]\u001b[0m\u001b[0;34m[\u001b[0m\u001b[0;34m'TIME'\u001b[0m\u001b[0;34m]\u001b[0m \u001b[0;34m=\u001b[0m \u001b[0mtoDateTime\u001b[0m\u001b[0;34m\u001b[0m\u001b[0;34m\u001b[0m\u001b[0m\n\u001b[1;32m      8\u001b[0m         \u001b[0mtable\u001b[0m \u001b[0;34m=\u001b[0m \u001b[0mtables\u001b[0m\u001b[0;34m[\u001b[0m\u001b[0mi\u001b[0m\u001b[0;34m]\u001b[0m\u001b[0;34m.\u001b[0m\u001b[0msel\u001b[0m\u001b[0;34m(\u001b[0m\u001b[0mTIME\u001b[0m \u001b[0;34m=\u001b[0m \u001b[0mslice\u001b[0m\u001b[0;34m(\u001b[0m\u001b[0mstartDate\u001b[0m\u001b[0;34m,\u001b[0m \u001b[0mendDate\u001b[0m\u001b[0;34m)\u001b[0m\u001b[0;34m,\u001b[0m \u001b[0mLAT_C\u001b[0m \u001b[0;34m=\u001b[0m \u001b[0mslice\u001b[0m\u001b[0;34m(\u001b[0m\u001b[0mlat1\u001b[0m\u001b[0;34m,\u001b[0m \u001b[0mlat2\u001b[0m\u001b[0;34m)\u001b[0m\u001b[0;34m,\u001b[0m \u001b[0mLON_C\u001b[0m \u001b[0;34m=\u001b[0m \u001b[0mslice\u001b[0m\u001b[0;34m(\u001b[0m\u001b[0mlon1\u001b[0m\u001b[0;34m,\u001b[0m \u001b[0mlon2\u001b[0m\u001b[0;34m)\u001b[0m\u001b[0;34m,\u001b[0m \u001b[0mDEP_C\u001b[0m \u001b[0;34m=\u001b[0m \u001b[0mslice\u001b[0m\u001b[0;34m(\u001b[0m\u001b[0mdepth1\u001b[0m\u001b[0;34m,\u001b[0m \u001b[0mdepth2\u001b[0m\u001b[0;34m)\u001b[0m\u001b[0;34m)\u001b[0m\u001b[0;34m\u001b[0m\u001b[0;34m\u001b[0m\u001b[0m\n",
      "\u001b[0;31mAttributeError\u001b[0m: 'DatetimeIndex' object has no attribute 'to_datetimeindex'"
     ]
    }
   ],
   "source": [
    "regionalMap(tables, variables, startDate, endDate, lat1, lat2, lon1, lon2, depth1, depth2, fname, exportDataFlag)\n",
    "\n"
   ]
  },
  {
   "cell_type": "code",
   "execution_count": null,
   "metadata": {},
   "outputs": [],
   "source": []
  }
 ],
 "metadata": {
  "kernelspec": {
   "display_name": "Python 3",
   "language": "python",
   "name": "python3"
  },
  "language_info": {
   "codemirror_mode": {
    "name": "ipython",
    "version": 3
   },
   "file_extension": ".py",
   "mimetype": "text/x-python",
   "name": "python",
   "nbconvert_exporter": "python",
   "pygments_lexer": "ipython3",
   "version": "3.7.3"
  }
 },
 "nbformat": 4,
 "nbformat_minor": 2
}
